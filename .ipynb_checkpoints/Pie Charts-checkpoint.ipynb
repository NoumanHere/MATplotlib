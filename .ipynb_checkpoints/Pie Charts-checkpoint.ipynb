{
 "cells": [
  {
   "cell_type": "code",
   "execution_count": 1,
   "id": "ff48f388",
   "metadata": {},
   "outputs": [],
   "source": [
    "from matplotlib import pyplot as plt"
   ]
  },
  {
   "cell_type": "code",
   "execution_count": 2,
   "id": "1fc477f6",
   "metadata": {},
   "outputs": [],
   "source": [
    "plt.style.use('fivethirtyeight')"
   ]
  },
  {
   "cell_type": "code",
   "execution_count": 25,
   "id": "372889ee",
   "metadata": {},
   "outputs": [],
   "source": [
    "# slices = [60, 40, 30, 20, 10]\n",
    "# labels = ['BSCS','BSM', 'LAW','BBA','B.COM']\n",
    "# colors = ['green','yellow','black','blue', 'orange']\n",
    "\n",
    "slices = [53587, 46259, 39792, 38835, 29162]\n",
    "labels = ['JavaScript', 'HTML/CSS', 'Python', 'SQL', 'Java']\n",
    "explode = [0,0,0.1,0,0] # Explode or Kind of separate one specific slice from the chart.\n"
   ]
  },
  {
   "cell_type": "code",
   "execution_count": 28,
   "id": "7494296e",
   "metadata": {},
   "outputs": [
    {
     "ename": "SyntaxError",
     "evalue": "invalid syntax (<ipython-input-28-c123c49820ee>, line 1)",
     "output_type": "error",
     "traceback": [
      "\u001b[0;36m  File \u001b[0;32m\"<ipython-input-28-c123c49820ee>\"\u001b[0;36m, line \u001b[0;32m1\u001b[0m\n\u001b[0;31m    plt.pie(slices,labels = labels, explode = explode, shadow=True, startangle=90 wedgeprops={'edgecolor':'black'})\u001b[0m\n\u001b[0m                                                                                  ^\u001b[0m\n\u001b[0;31mSyntaxError\u001b[0m\u001b[0;31m:\u001b[0m invalid syntax\n"
     ]
    }
   ],
   "source": [
    "plt.pie(slices,labels = labels, explode = explode, shadow=True, startangle=90, wedgeprops={'edgecolor':'black'}) \n",
    "plt.title(\"My Pie Chart\")\n",
    "plt.figure(dpi=1200)\n",
    "plt.tight_layout()\n",
    "plt.show()"
   ]
  },
  {
   "cell_type": "code",
   "execution_count": null,
   "id": "71e56f92",
   "metadata": {},
   "outputs": [],
   "source": []
  }
 ],
 "metadata": {
  "kernelspec": {
   "display_name": "Python 3",
   "language": "python",
   "name": "python3"
  },
  "language_info": {
   "codemirror_mode": {
    "name": "ipython",
    "version": 3
   },
   "file_extension": ".py",
   "mimetype": "text/x-python",
   "name": "python",
   "nbconvert_exporter": "python",
   "pygments_lexer": "ipython3",
   "version": "3.8.10"
  }
 },
 "nbformat": 4,
 "nbformat_minor": 5
}
