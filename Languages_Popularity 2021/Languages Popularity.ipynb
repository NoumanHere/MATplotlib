{
 "cells": [
  {
   "cell_type": "code",
   "execution_count": 1,
   "id": "78278207",
   "metadata": {},
   "outputs": [],
   "source": [
    "import pandas as pd"
   ]
  },
  {
   "cell_type": "code",
   "execution_count": 46,
   "id": "7c546a36",
   "metadata": {},
   "outputs": [],
   "source": [
    "df = pd.read_csv('survey_results_public.csv')\n",
    "languages = df['LanguageHaveWorkedWith']\n",
    "languages.to_csv('data.csv', index=True, index_label='Respondent')"
   ]
  },
  {
   "cell_type": "code",
   "execution_count": 47,
   "id": "4fd86a15",
   "metadata": {},
   "outputs": [
    {
     "data": {
      "text/html": [
       "<div>\n",
       "<style scoped>\n",
       "    .dataframe tbody tr th:only-of-type {\n",
       "        vertical-align: middle;\n",
       "    }\n",
       "\n",
       "    .dataframe tbody tr th {\n",
       "        vertical-align: top;\n",
       "    }\n",
       "\n",
       "    .dataframe thead th {\n",
       "        text-align: right;\n",
       "    }\n",
       "</style>\n",
       "<table border=\"1\" class=\"dataframe\">\n",
       "  <thead>\n",
       "    <tr style=\"text-align: right;\">\n",
       "      <th></th>\n",
       "      <th>LanguageHaveWorkedWith</th>\n",
       "    </tr>\n",
       "    <tr>\n",
       "      <th>Respondent</th>\n",
       "      <th></th>\n",
       "    </tr>\n",
       "  </thead>\n",
       "  <tbody>\n",
       "    <tr>\n",
       "      <th>0</th>\n",
       "      <td>C++;HTML/CSS;JavaScript;Objective-C;PHP;Swift</td>\n",
       "    </tr>\n",
       "    <tr>\n",
       "      <th>1</th>\n",
       "      <td>JavaScript;Python</td>\n",
       "    </tr>\n",
       "    <tr>\n",
       "      <th>2</th>\n",
       "      <td>Assembly;C;Python;R;Rust</td>\n",
       "    </tr>\n",
       "    <tr>\n",
       "      <th>3</th>\n",
       "      <td>JavaScript;TypeScript</td>\n",
       "    </tr>\n",
       "    <tr>\n",
       "      <th>4</th>\n",
       "      <td>Bash/Shell;HTML/CSS;Python;SQL</td>\n",
       "    </tr>\n",
       "    <tr>\n",
       "      <th>...</th>\n",
       "      <td>...</td>\n",
       "    </tr>\n",
       "    <tr>\n",
       "      <th>83434</th>\n",
       "      <td>Clojure;Kotlin;SQL</td>\n",
       "    </tr>\n",
       "    <tr>\n",
       "      <th>83435</th>\n",
       "      <td>NaN</td>\n",
       "    </tr>\n",
       "    <tr>\n",
       "      <th>83436</th>\n",
       "      <td>Groovy;Java;Python</td>\n",
       "    </tr>\n",
       "    <tr>\n",
       "      <th>83437</th>\n",
       "      <td>Bash/Shell;JavaScript;Node.js;Python</td>\n",
       "    </tr>\n",
       "    <tr>\n",
       "      <th>83438</th>\n",
       "      <td>Delphi;Elixir;HTML/CSS;Java;JavaScript</td>\n",
       "    </tr>\n",
       "  </tbody>\n",
       "</table>\n",
       "<p>83439 rows × 1 columns</p>\n",
       "</div>"
      ],
      "text/plain": [
       "                                   LanguageHaveWorkedWith\n",
       "Respondent                                               \n",
       "0           C++;HTML/CSS;JavaScript;Objective-C;PHP;Swift\n",
       "1                                       JavaScript;Python\n",
       "2                                Assembly;C;Python;R;Rust\n",
       "3                                   JavaScript;TypeScript\n",
       "4                          Bash/Shell;HTML/CSS;Python;SQL\n",
       "...                                                   ...\n",
       "83434                                  Clojure;Kotlin;SQL\n",
       "83435                                                 NaN\n",
       "83436                                  Groovy;Java;Python\n",
       "83437                Bash/Shell;JavaScript;Node.js;Python\n",
       "83438              Delphi;Elixir;HTML/CSS;Java;JavaScript\n",
       "\n",
       "[83439 rows x 1 columns]"
      ]
     },
     "execution_count": 47,
     "metadata": {},
     "output_type": "execute_result"
    }
   ],
   "source": [
    "pd.read_csv('data.csv', index_col='Respondent')"
   ]
  },
  {
   "cell_type": "code",
   "execution_count": 32,
   "id": "022f7102",
   "metadata": {},
   "outputs": [],
   "source": [
    "# languages_with_resp = pd.concat([df['ResponseId'],languages])"
   ]
  },
  {
   "cell_type": "code",
   "execution_count": 33,
   "id": "abf5851f",
   "metadata": {},
   "outputs": [],
   "source": [
    "# languages_with_resp"
   ]
  },
  {
   "cell_type": "code",
   "execution_count": null,
   "id": "82b38220",
   "metadata": {},
   "outputs": [],
   "source": []
  },
  {
   "cell_type": "code",
   "execution_count": null,
   "id": "8e8ca189",
   "metadata": {},
   "outputs": [],
   "source": []
  }
 ],
 "metadata": {
  "kernelspec": {
   "display_name": "Python 3.8.10 64-bit",
   "language": "python",
   "name": "python3810jvsc74a57bd031f2aee4e71d21fbe5cf8b01ff0e069b9275f58929596ceb00d14d90e3e16cd6"
  },
  "language_info": {
   "codemirror_mode": {
    "name": "ipython",
    "version": 3
   },
   "file_extension": ".py",
   "mimetype": "text/x-python",
   "name": "python",
   "nbconvert_exporter": "python",
   "pygments_lexer": "ipython3",
   "version": "3.8.10"
  }
 },
 "nbformat": 4,
 "nbformat_minor": 5
}
